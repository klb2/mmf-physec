{
 "cells": [
  {
   "cell_type": "markdown",
   "metadata": {},
   "source": [
    "# Physical Layer Security on Multi-Mode Fibers - BPSK Example"
   ]
  },
  {
   "cell_type": "markdown",
   "metadata": {},
   "source": [
    "_Author:_ Karl-Ludwig Besser, Technische Universität Braunschweig\n",
    "\n",
    "This notebook is part of the paper \"Programmable Optical Data Transmission Through Multimode Fibres Enabling Confidentiality by Physical Layer Security\" (S. Rothe, K.-L. Besser, D. Krause, R. Kuschmierz, N. Koukourakis, E. Jorswieck, J. Czarske. 2022, [arXiv:2203.02064](https://arxiv.org/abs/2203.02064)).  \n",
    "If you use any of this work, please cite the above paper."
   ]
  },
  {
   "cell_type": "markdown",
   "metadata": {},
   "source": [
    "> If you are not familiar with Jupyter notebooks: The easiest way to use this notebook interactively, is to hit `Kernel --> Restart & Run All` in the menu. This will execute all cells and enable the interactive elements of the plots.  \n",
    "> Alternatively, you can execute the cells one by one using Shift+Return"
   ]
  },
  {
   "cell_type": "code",
   "execution_count": null,
   "metadata": {},
   "outputs": [],
   "source": [
    "%matplotlib widget\n",
    "\n",
    "from svd_precoding import main as svd_main\n",
    "from data_transmission import main as data_main\n",
    "\n",
    "\n",
    "MEASUREMENT_FILE=\"measurements/mmf-measurement.mat\"\n",
    "DATA_MEASUREMENT=\"measurements/data-measurement.mat\"\n",
    "LOGO_FILE=\"logo/tud_logo_60.txt\"\n",
    "SNR_DB = 10"
   ]
  },
  {
   "cell_type": "markdown",
   "metadata": {},
   "source": [
    "## BPSK Transmission\n",
    "\n",
    "The details on the transmission scheme can be found in the paper.\n",
    "Alice transmits BPSK symbols to Bob and uses SVD for precoding.\n",
    "She uses $K$ out of $N$ modes for transmitting data.\n",
    "\n",
    "All of the results in this notebook are only shown for one MMF measurement, while the results shown in the paper are averaged over multiple measurements.\n",
    "To reproduce the results in the paper, please run the provided `statistic.sh` Bash script."
   ]
  },
  {
   "cell_type": "markdown",
   "metadata": {},
   "source": [
    "### Perfect SVD Precoding\n",
    "\n",
    "First, we show the results for perfect SVD precoding.\n",
    "Based on the measured channels, we calculate the secrecy rate for the (theoretical) scenario that Alice can do a perfect SVD precoding.\n",
    "This therefore provides an upper bound on the achievable performance in a real system.\n",
    "\n",
    "The first plot shows the matrix with the singular values on the main diagonal.\n",
    "Since Alice does a perfect SVD, this matrix is a perfect diagonal matrix with decreasing singular values."
   ]
  },
  {
   "cell_type": "code",
   "execution_count": null,
   "metadata": {
    "scrolled": false
   },
   "outputs": [],
   "source": [
    "svd_main(SNR_DB, k=15, matrix=MEASUREMENT_FILE, precoded=False, num_samples=100000)"
   ]
  },
  {
   "cell_type": "markdown",
   "metadata": {},
   "source": [
    "### Real SVD Precoding\n",
    "\n",
    "Next, we use the results of the actual optical SVD precoding, i.e., the matrices in the following are based on real measurements of actual MMF fiber channels.\n",
    "\n",
    "Therefore, the SVD precoding at the transmitter is not perfect and the matrix with the singular values is not a perfect diagonal matrix.\n",
    "However, it can be seen that the diagonalization is close to optimal for the first sub-channels."
   ]
  },
  {
   "cell_type": "code",
   "execution_count": null,
   "metadata": {
    "scrolled": false
   },
   "outputs": [],
   "source": [
    "svd_main(SNR_DB, k=15, matrix=MEASUREMENT_FILE, precoded=True, num_samples=100000)"
   ]
  },
  {
   "cell_type": "markdown",
   "metadata": {},
   "source": [
    "### Data Transmission\n",
    "\n",
    "Finally, we illustrate the received signals at Bob and Eve by transmitting an (uncoded) image.\n",
    "\n",
    "The top plot shows the transmitted image.\n",
    "The bottom plots show the received images at Bob and Eve, respectively."
   ]
  },
  {
   "cell_type": "code",
   "execution_count": null,
   "metadata": {
    "scrolled": false
   },
   "outputs": [],
   "source": [
    "data_main(DATA_MEASUREMENT, LOGO_FILE)"
   ]
  }
 ],
 "metadata": {
  "kernelspec": {
   "display_name": "Python 3 (ipykernel)",
   "language": "python",
   "name": "python3"
  },
  "language_info": {
   "codemirror_mode": {
    "name": "ipython",
    "version": 3
   },
   "file_extension": ".py",
   "mimetype": "text/x-python",
   "name": "python",
   "nbconvert_exporter": "python",
   "pygments_lexer": "ipython3",
   "version": "3.10.9"
  }
 },
 "nbformat": 4,
 "nbformat_minor": 4
}
